{
  "nbformat": 4,
  "nbformat_minor": 0,
  "metadata": {
    "colab": {
      "provenance": []
    },
    "kernelspec": {
      "name": "python3",
      "display_name": "Python 3"
    },
    "language_info": {
      "name": "python"
    }
  },
  "cells": [
    {
      "cell_type": "markdown",
      "source": [
        "## 1) Probabilidade"
      ],
      "metadata": {
        "id": "jmym3PFTj7kC"
      }
    },
    {
      "cell_type": "code",
      "source": [
        "# 13.18\n",
        "P = 1 - 0.02\n",
        "Pnaoganhar = P**3\n",
        "print(Pnaoganhar)"
      ],
      "metadata": {
        "colab": {
          "base_uri": "https://localhost:8080/"
        },
        "id": "ebYS0SWUkLwz",
        "outputId": "7eeed353-f7d4-4fe7-95ec-eb9d5b2e6b53"
      },
      "execution_count": 7,
      "outputs": [
        {
          "output_type": "stream",
          "name": "stdout",
          "text": [
            "0.9411919999999999\n"
          ]
        }
      ]
    },
    {
      "cell_type": "code",
      "source": [
        "# 13.19\n",
        "Pganharemalguma = 1 - Pnaoganhar\n",
        "print(Pganharemalguma)"
      ],
      "metadata": {
        "colab": {
          "base_uri": "https://localhost:8080/"
        },
        "id": "5zGODGvNl_ED",
        "outputId": "1d0ff8ee-d330-4009-bb4a-c5aa2babe76f"
      },
      "execution_count": 8,
      "outputs": [
        {
          "output_type": "stream",
          "name": "stdout",
          "text": [
            "0.05880800000000008\n"
          ]
        }
      ]
    },
    {
      "cell_type": "code",
      "source": [
        "#13.20\n",
        "ProbabilidadePositivo = 1 - ((1 - 0.9) * (1 - 0.8))\n",
        "print(ProbabilidadePositivo)"
      ],
      "metadata": {
        "colab": {
          "base_uri": "https://localhost:8080/"
        },
        "id": "_NLO6TAomkJn",
        "outputId": "b007e351-00d1-45da-fb1f-629697336853"
      },
      "execution_count": 11,
      "outputs": [
        {
          "output_type": "stream",
          "name": "stdout",
          "text": [
            "0.98\n"
          ]
        }
      ]
    },
    {
      "cell_type": "code",
      "source": [
        "#13.21\n",
        "ProbabilidadeNaoFazerFaculdade = 956/2870\n",
        "print(ProbabilidadeNaoFazerFaculdade)"
      ],
      "metadata": {
        "colab": {
          "base_uri": "https://localhost:8080/"
        },
        "id": "pbtp7hWsoEZb",
        "outputId": "7843d79a-3840-4a66-8cbe-2db562204163"
      },
      "execution_count": 12,
      "outputs": [
        {
          "output_type": "stream",
          "name": "stdout",
          "text": [
            "0.33310104529616724\n"
          ]
        }
      ]
    },
    {
      "cell_type": "code",
      "source": [
        "#13.49\n",
        "PFazerPonto1Servico = 0.56 * 0.73\n",
        "PFazerPonto2Servico = 0.44 * 0.86 * 0.59\n",
        "PFazerPonto = PFazerPonto1Servico + PFazerPonto2Servico\n",
        "print(PFazerPonto)"
      ],
      "metadata": {
        "colab": {
          "base_uri": "https://localhost:8080/"
        },
        "id": "qkJ7mNRzopw8",
        "outputId": "28388449-6089-401d-f3e1-cfdde0aef368"
      },
      "execution_count": 13,
      "outputs": [
        {
          "output_type": "stream",
          "name": "stdout",
          "text": [
            "0.6320560000000001\n"
          ]
        }
      ]
    },
    {
      "cell_type": "markdown",
      "source": [
        "## 2) Intervalo de confiança"
      ],
      "metadata": {
        "id": "1X1iENPMkHeD"
      }
    },
    {
      "cell_type": "code",
      "source": [
        "#16.12\n",
        "import numpy as np\n",
        "from scipy.stats import norm;\n",
        "media12 = (3.414 + 3.412 + 3.416)/3\n",
        "desviopadrao12 = 0.001/np.sqrt(3)\n",
        "intervalo12 = norm.interval(0.95, loc=media12, scale=desviopadrao12)\n",
        "print(intervalo12)"
      ],
      "metadata": {
        "colab": {
          "base_uri": "https://localhost:8080/"
        },
        "id": "XZUy9IZoslA0",
        "outputId": "91a11da0-70ca-4517-bf38-87bdf29fffdd"
      },
      "execution_count": 31,
      "outputs": [
        {
          "output_type": "stream",
          "name": "stdout",
          "text": [
            "(np.float64(3.412868414265924), np.float64(3.4151315857340765))\n"
          ]
        }
      ]
    },
    {
      "cell_type": "code",
      "source": [
        "#16.13\n",
        "intervalo13 = norm.interval(0.99, loc=media12, scale=desviopadrao12)\n",
        "print(intervalo13)\n",
        "#temos que a margem de erro aqui é maior que na anterior"
      ],
      "metadata": {
        "colab": {
          "base_uri": "https://localhost:8080/"
        },
        "id": "K0Xw6cA57o6T",
        "outputId": "9b42dd2e-58b8-4f30-9c58-afd5178d7163"
      },
      "execution_count": 16,
      "outputs": [
        {
          "output_type": "stream",
          "name": "stdout",
          "text": [
            "(np.float64(3.4114241706964514), np.float64(3.416575829303549))\n"
          ]
        }
      ]
    },
    {
      "cell_type": "code",
      "source": [
        "#16.14\n",
        "media14 = 4.1602\n",
        "desvio14 = 0.001/np.sqrt(8)\n",
        "intervalo14 = norm.interval(0.99, loc=media14, scale=desviopadrao12)\n",
        "print(intervalo14)"
      ],
      "metadata": {
        "colab": {
          "base_uri": "https://localhost:8080/"
        },
        "id": "VecQ9Pv98gZH",
        "outputId": "839e9dfa-432f-4b51-e7e2-5fe52e8840d1"
      },
      "execution_count": 32,
      "outputs": [
        {
          "output_type": "stream",
          "name": "stdout",
          "text": [
            "(np.float64(4.1587128442582095), np.float64(4.16168715574179))\n"
          ]
        }
      ]
    },
    {
      "cell_type": "code",
      "source": [
        "#16.26\n",
        "dados = [-4.7, -2.5, 4.9, -2.7, -0.8, -5.3, -8.3, 2.1, -6.8, 4.3, 2.2, -7.8, -3.1, -1.0, -6.5, -1.8, -5.2, -5.7, -7.0, -2.2, -6.5, -1.0, -3.0, -3.6, -5.2, -2.0, -2.1, -5.6, -4.4, -3.3, 4.0, -4.9, -4.7, -3.8, -5.9, -2.5, -0.3, -6.2, -6.8, 1.7, 0.3, -2.3, 0.4, -5.3, 0.2, -2.2, -5.1]\n",
        "media26 = sum(dados)/len(dados)\n",
        "desviopadrao26 = 2.5/np.sqrt(len(dados))\n",
        "intervalo26 = norm.interval(0.99, loc=media26, scale=desviopadrao26)\n",
        "print(intervalo26)"
      ],
      "metadata": {
        "colab": {
          "base_uri": "https://localhost:8080/"
        },
        "id": "FoU1l6DqK3DS",
        "outputId": "bba87e4b-b851-420e-ddef-714ef8e102fd"
      },
      "execution_count": 34,
      "outputs": [
        {
          "output_type": "stream",
          "name": "stdout",
          "text": [
            "(np.float64(-3.8754785114214276), np.float64(-1.9968619141104873))\n"
          ]
        }
      ]
    },
    {
      "cell_type": "code",
      "source": [
        "#16.27\n",
        "dados27 = [30, 30 , 42, 35, 22, 33, 31, 29, 19, 23]\n",
        "media27 = sum(dados27) / len(dados27)\n",
        "desviopadrao27 = 7/np.sqrt(10)\n",
        "intervalo27 = norm.interval(0.95, loc=media27, scale=desviopadrao27)\n",
        "print(intervalo27)"
      ],
      "metadata": {
        "colab": {
          "base_uri": "https://localhost:8080/"
        },
        "id": "YW-40-LGOoMT",
        "outputId": "542fbaca-4447-4212-d2a8-3a09fa127db8"
      },
      "execution_count": 35,
      "outputs": [
        {
          "output_type": "stream",
          "name": "stdout",
          "text": [
            "(np.float64(25.06143477386807), np.float64(33.73856522613193))\n"
          ]
        }
      ]
    }
  ]
}