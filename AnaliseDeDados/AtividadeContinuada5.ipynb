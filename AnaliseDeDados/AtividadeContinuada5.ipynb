{
  "nbformat": 4,
  "nbformat_minor": 0,
  "metadata": {
    "colab": {
      "provenance": []
    },
    "kernelspec": {
      "name": "python3",
      "display_name": "Python 3"
    },
    "language_info": {
      "name": "python"
    }
  },
  "cells": [
    {
      "cell_type": "code",
      "execution_count": 2,
      "metadata": {
        "colab": {
          "base_uri": "https://localhost:8080/"
        },
        "id": "HLQS7oWJU2UF",
        "outputId": "4da0b3e0-36da-46e0-8e88-4666fc064a5c"
      },
      "outputs": [
        {
          "output_type": "stream",
          "name": "stdout",
          "text": [
            "0.09999999999999998\n",
            "0.9299999999999999\n"
          ]
        }
      ],
      "source": [
        "#12.34\n",
        "#a\n",
        "result34a = 1 - (0.07 + 0.46 + 0.37)\n",
        "print(result34a)\n",
        "#b\n",
        "result34b = 1 - 0.07\n",
        "print(result34b)"
      ]
    },
    {
      "cell_type": "code",
      "source": [
        "#12.35\n",
        "areafloresta = 4176000/9094000\n",
        "areanaofloresta = 1 - areafloresta\n",
        "print(areafloresta)\n",
        "print(areanaofloresta)"
      ],
      "metadata": {
        "colab": {
          "base_uri": "https://localhost:8080/"
        },
        "id": "jOy3roPLXsFR",
        "outputId": "11f70c1f-365f-4a15-911f-7e0a831b778c"
      },
      "execution_count": 3,
      "outputs": [
        {
          "output_type": "stream",
          "name": "stdout",
          "text": [
            "0.45920387068396745\n",
            "0.5407961293160326\n"
          ]
        }
      ]
    },
    {
      "cell_type": "code",
      "source": [
        "#12.29\n",
        "prob1 = 1 - 0.2 - 4/6\n",
        "print(prob1)"
      ],
      "metadata": {
        "colab": {
          "base_uri": "https://localhost:8080/"
        },
        "id": "VSMfE1VLY49M",
        "outputId": "e62ab37f-16eb-4ce7-bd3b-1f983caa233a"
      },
      "execution_count": 5,
      "outputs": [
        {
          "output_type": "stream",
          "name": "stdout",
          "text": [
            "0.13333333333333341\n"
          ]
        }
      ]
    },
    {
      "cell_type": "code",
      "source": [
        "#12.40\n",
        "probmulher = 42/(42 + 48)\n",
        "print(probmulher)"
      ],
      "metadata": {
        "colab": {
          "base_uri": "https://localhost:8080/"
        },
        "id": "S3_JqNG5Z0Vn",
        "outputId": "546ac056-29a9-4a9b-c785-2c34d4e64a4b"
      },
      "execution_count": 6,
      "outputs": [
        {
          "output_type": "stream",
          "name": "stdout",
          "text": [
            "0.4666666666666667\n"
          ]
        }
      ]
    },
    {
      "cell_type": "code",
      "source": [
        "#12.41\n",
        "hispanicos = 0.003 + 0.011 + 0.161 + 0.009\n",
        "naobrancos = 1 - 0.605\n",
        "print(hispanicos)\n",
        "print(naobrancos)"
      ],
      "metadata": {
        "colab": {
          "base_uri": "https://localhost:8080/"
        },
        "id": "KAXGljjnaRPL",
        "outputId": "addd5df2-aedc-420b-9e5a-38577a166c91"
      },
      "execution_count": 7,
      "outputs": [
        {
          "output_type": "stream",
          "name": "stdout",
          "text": [
            "0.184\n",
            "0.395\n"
          ]
        }
      ]
    },
    {
      "cell_type": "code",
      "source": [
        "#12.42\n",
        "probm = 0.152 + 0.261 + 0.057 + 0.045\n",
        "print(probm)\n",
        "probc = 0.259 + 0.261\n",
        "print(probc)"
      ],
      "metadata": {
        "colab": {
          "base_uri": "https://localhost:8080/"
        },
        "id": "1QedsPo7bUgT",
        "outputId": "aa60e1e3-41ac-4a50-ad99-1310217ee5e4"
      },
      "execution_count": 9,
      "outputs": [
        {
          "output_type": "stream",
          "name": "stdout",
          "text": [
            "0.515\n",
            "0.52\n"
          ]
        }
      ]
    },
    {
      "cell_type": "code",
      "source": [
        "#12.44\n",
        "probhome = 1-probm\n",
        "print(probhome)\n",
        "probcasados = 1 - 0.171 - 0.152\n",
        "print(probcasados)"
      ],
      "metadata": {
        "colab": {
          "base_uri": "https://localhost:8080/"
        },
        "id": "iE0-Q85lctOU",
        "outputId": "937a6d9c-0954-4841-9d98-bb47ab91b418"
      },
      "execution_count": 13,
      "outputs": [
        {
          "output_type": "stream",
          "name": "stdout",
          "text": [
            "0.485\n",
            "0.6769999999999999\n"
          ]
        }
      ]
    }
  ]
}